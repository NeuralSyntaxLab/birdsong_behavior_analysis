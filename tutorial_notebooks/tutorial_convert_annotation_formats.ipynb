{
 "cells": [
  {
   "cell_type": "code",
   "execution_count": 1,
   "metadata": {},
   "outputs": [],
   "source": [
    "import sys\n",
    "sys.path.append('..')\n",
    "from helper_functions_manage_annotation_files.functions_to_convert_between_tweet_and_csv_annotation_files import *\n",
    "from pathlib import Path\n",
    "import pandas as pd\n",
    "import numpy as np\n",
    "from scipy.io import wavfile"
   ]
  },
  {
   "cell_type": "code",
   "execution_count": null,
   "metadata": {},
   "outputs": [],
   "source": [
    "source_file = '/Users/yardenc/Dropbox (Weizmann Institute)/temp_share_canary_data/llb3_annotation.mat'\n",
    "destination_file = '/Users/yardenc/Dropbox (Weizmann Institute)/temp_share_canary_data/llb3_annotation_1.csv'\n",
    "path_to_songs = '/Users/yardenc/Dropbox (Weizmann Institute)/temp_share_canary_data/llb3_songs'\n",
    "df = tweet_to_df(source_file,path_to_songs,path_to_csv=destination_file)"
   ]
  }
 ],
 "metadata": {
  "kernelspec": {
   "display_name": "song",
   "language": "python",
   "name": "python3"
  },
  "language_info": {
   "codemirror_mode": {
    "name": "ipython",
    "version": 3
   },
   "file_extension": ".py",
   "mimetype": "text/x-python",
   "name": "python",
   "nbconvert_exporter": "python",
   "pygments_lexer": "ipython3",
   "version": "3.10.8"
  },
  "orig_nbformat": 4,
  "vscode": {
   "interpreter": {
    "hash": "d8298c160f17a5fdba39ff2191312d676bedb711e59efb4afc88f2cfaa2f8a87"
   }
  }
 },
 "nbformat": 4,
 "nbformat_minor": 2
}
