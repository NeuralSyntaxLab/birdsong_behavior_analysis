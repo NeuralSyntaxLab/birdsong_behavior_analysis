{
 "cells": [
  {
   "cell_type": "markdown",
   "metadata": {},
   "source": [
    "## Tutorial for using string edit distance metrics\n",
    "Yarden 11/2023"
   ]
  },
  {
   "cell_type": "code",
   "execution_count": null,
   "metadata": {},
   "outputs": [],
   "source": [
    "from ../helper_functions_song_sequence/string_metrics import *"
   ]
  }
 ],
 "metadata": {
  "kernelspec": {
   "display_name": "Python 3.8.15 ('test-env')",
   "language": "python",
   "name": "python3"
  },
  "language_info": {
   "name": "python",
   "version": "3.8.15"
  },
  "orig_nbformat": 4,
  "vscode": {
   "interpreter": {
    "hash": "0de2ea1784063c279a2dc1800fdd28bee118be865dcffe05cdf54e6b940973fd"
   }
  }
 },
 "nbformat": 4,
 "nbformat_minor": 2
}
