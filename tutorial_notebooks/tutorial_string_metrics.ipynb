{
 "cells": [
  {
   "cell_type": "markdown",
   "metadata": {},
   "source": [
    "## Tutorial for using string edit distance metrics\n",
    "Yarden 11/2023"
   ]
  },
  {
   "cell_type": "code",
   "execution_count": 21,
   "metadata": {},
   "outputs": [],
   "source": [
    "import sys\n",
    "sys.path.append('..')\n",
    "from helper_functions_song_sequence.string_metrics import *"
   ]
  },
  {
   "cell_type": "markdown",
   "metadata": {},
   "source": [
    "### The Levenshtein distance \n",
    "Given 2 strings, this metric counts how many edits (insertions, deletions, substitutions) are needed to convert one string to the other. See more in this [link to Wikipedia](https://www.wikiwand.com/en/Levenshtein_distance)\n",
    "\n",
    "The function levenshtein(string1, string2), defined in [string_metrics.py](https://github.com/NeuralSyntaxLab/birdsong_behavior_analysis/blob/main/helper_functions_song_sequence/string_metrics.py), implements the Levenshtein distance.\n",
    "\n",
    "### Examples:"
   ]
  },
  {
   "cell_type": "code",
   "execution_count": 22,
   "metadata": {},
   "outputs": [
    {
     "name": "stdout",
     "output_type": "stream",
     "text": [
      "4\n"
     ]
    }
   ],
   "source": [
    "print(levenshtein('Brownies','Frown'))"
   ]
  },
  {
   "cell_type": "markdown",
   "metadata": {},
   "source": [
    "### Character error rate\n",
    "Since strings can be of different lengths it is not so useful to know the Levenstein distance. Instead, we normalize the Levenshtein distance by the length of the shorter string. This creates a metric that we term **The Character Error Rate**.\n",
    "\n",
    "The function char_error_rate(string1, string2), defined in [string_metrics.py](https://github.com/NeuralSyntaxLab/birdsong_behavior_analysis/blob/main/helper_functions_song_sequence/string_metrics.py), implements this metric.\n",
    "\n",
    "### Examples:"
   ]
  },
  {
   "cell_type": "code",
   "execution_count": 26,
   "metadata": {},
   "outputs": [
    {
     "name": "stdout",
     "output_type": "stream",
     "text": [
      "source: kitten, target: sitting\n",
      "\tvak: 0.42857142857142855\n",
      "source: kitten, target: kitten\n",
      "\tvak: 0.0\n",
      "source: , target: \n",
      "\tvak: 0.0\n",
      "source: kitten, target: \n",
      "\tvak: value error\n",
      "source: , target: sitting\n",
      "\tvak: 1.0\n",
      "source: meilenstein, target: levenshtein\n",
      "\tvak: 0.36363636363636365\n",
      "source: levenshtein, target: frankenstein\n",
      "\tvak: 0.5\n",
      "source: confide, target: deceit\n",
      "\tvak: 1.0\n",
      "source: CUNsperrICY, target: conspiracy\n",
      "\tvak: 0.8\n"
     ]
    }
   ],
   "source": [
    "LEV_PARAMETRIZE = [\n",
    "# adapted from https://github.com/toastdriven/pylev/blob/master/tests.py\n",
    "    (\"kitten\", \"sitting\", 3),\n",
    "    (\"kitten\", \"kitten\", 0),\n",
    "    (\"\", \"\", 0),\n",
    "    (\"kitten\", \"\", 6),\n",
    "    (\"\", \"sitting\", 7),\n",
    "    (\"meilenstein\", \"levenshtein\", 4),\n",
    "    (\"levenshtein\", \"frankenstein\", 6),\n",
    "    (\"confide\", \"deceit\", 6),\n",
    "    (\"CUNsperrICY\", \"conspiracy\", 8),\n",
    "    # case added to catch failure with our previous implementation from\n",
    "    # https://en.wikibooks.org/wiki/Talk:Algorithm_Implementation/Strings/Levenshtein_('aabcc', 'bccdd', 4),\n",
    "]\n",
    "for source, target, expected in LEV_PARAMETRIZE:\n",
    "    if len(target) == 0 and len(source) != 0:\n",
    "        ser = 'value error'\n",
    "    else:\n",
    "        ser = char_error_rate(source, target)\n",
    "    print(f'source: {source}, target: {target}\\n\\tvak: {ser}')\n"
   ]
  },
  {
   "cell_type": "code",
   "execution_count": null,
   "metadata": {},
   "outputs": [],
   "source": []
  }
 ],
 "metadata": {
  "kernelspec": {
   "display_name": "Python 3.8.15 ('test-env')",
   "language": "python",
   "name": "python3"
  },
  "language_info": {
   "codemirror_mode": {
    "name": "ipython",
    "version": 3
   },
   "file_extension": ".py",
   "mimetype": "text/x-python",
   "name": "python",
   "nbconvert_exporter": "python",
   "pygments_lexer": "ipython3",
   "version": "3.8.15"
  },
  "orig_nbformat": 4,
  "vscode": {
   "interpreter": {
    "hash": "0de2ea1784063c279a2dc1800fdd28bee118be865dcffe05cdf54e6b940973fd"
   }
  }
 },
 "nbformat": 4,
 "nbformat_minor": 2
}
